{
 "cells": [
  {
   "cell_type": "markdown",
   "metadata": {},
   "source": [
    "    a hypothesis test calculates SOME QUANTITY(P VALUE OR CRITICAL VALUE) under a given assumption\n",
    "    we can use the result of the test to check whether the assumption holds or assumption is violated\n",
    "    the assumption of a statistical test is called NULL HYPOTHESIS(nothing has changed)\n",
    "    a violation of the test's assumption is called the ALTERNATE HYPOTHESIS"
   ]
  },
  {
   "cell_type": "markdown",
   "metadata": {},
   "source": [
    "  ** RESULT FROM A STATISTICAL HYPOTHESIS TEST CAN TAKE TWO FORMS: **  \n",
    "        P VALUES  \n",
    "        CRITIAL VALUES"
   ]
  },
  {
   "cell_type": "markdown",
   "metadata": {},
   "source": [
    "**P VALUES** Pr(data|hypothesis) - prob of the data given the pre-specified assumption embedded in the statistical test"
   ]
  },
  {
   "cell_type": "markdown",
   "metadata": {},
   "source": [
    "    P value is compared to the significant level(alpha)\n",
    "\n",
    "    if p value <= alpha: significant result, reject the null hypothesis  \n",
    "    if p value > alpha: not signficant result, fail to reject the null hypothesis\n",
    "    \n",
    "    confidence level = 1 - alpha\n",
    "    \n",
    "    rejecting the null hypothesis means that there is sufficient statistical evidence to show that the null hypothsis(assumption) is not likely vs there is insufficient statistical evidence to reject the null hypothesis"
   ]
  },
  {
   "cell_type": "markdown",
   "metadata": {},
   "source": [
    "** CRITICAL VALUES **"
   ]
  },
  {
   "cell_type": "markdown",
   "metadata": {},
   "source": [
    "    test statistic is compared to the critical value\n",
    "\n",
    "    if test statistic >= critical value: significant result, reject the null hypothesis  \n",
    "    if test statistic < critial vale: not signficant result, fail to reject the null hypothesis\n",
    "        \n",
    "        \n",
    "    you should know the distribution of the test statistic and how to sample the distribution to get the critical value"
   ]
  },
  {
   "cell_type": "markdown",
   "metadata": {},
   "source": [
    "** ERRORS IN STATISTICAL TESTS **"
   ]
  },
  {
   "cell_type": "markdown",
   "metadata": {},
   "source": [
    "if alpha is at 5%, it means that 1 in 20 times that the null hypothesis would be mistakenly rejected bcz of the statistial noise in the data sample.\n",
    "\n",
    "Given a small p-value (reject the null hypothesis) either means that the null hypothesis false (we got it right) or it is true and some rare and unlikely event has been observed (we made a mistake). If this type of error is made, it is called a false\n",
    "positive. We falsely believe the rejection of the null hypothesis.\n",
    "\n",
    "Alternately, given a large p-value (fail to reject the null hypothesis), it may mean that the\n",
    "null hypothesis is true (we got it right) or that the null hypothesis is false and some unlikely\n",
    "event occurred (we made a mistake). If this type of error is made, it is called a false negative.\n",
    "We falsely believe the null hypothesis or assumption of the statistical test.\n",
    "\n",
    "    Type I error: the incorrect rejection of a  true null hypothesis - false positive\n",
    "    Type II error: the incorrect failure of rejecting a false null hypothesis - false negative"
   ]
  },
  {
   "cell_type": "markdown",
   "metadata": {},
   "source": [
    "** DEGREES OF FREEDOM IN STATISTICS **"
   ]
  },
  {
   "cell_type": "markdown",
   "metadata": {},
   "source": [
    "The number of independent pieces of information that are used to estimate a parameter or calculate a statistic from the data sample"
   ]
  },
  {
   "cell_type": "markdown",
   "metadata": {},
   "source": [
    "If the statistic being calculated makes use of another statistic\n",
    "in an intermediate step, then the number of degrees of freedom must be corrected via making a\n",
    "subtraction"
   ]
  }
 ],
 "metadata": {
  "kernelspec": {
   "display_name": "Python 3",
   "language": "python",
   "name": "python3"
  },
  "language_info": {
   "codemirror_mode": {
    "name": "ipython",
    "version": 3
   },
   "file_extension": ".py",
   "mimetype": "text/x-python",
   "name": "python",
   "nbconvert_exporter": "python",
   "pygments_lexer": "ipython3",
   "version": "3.6.5"
  }
 },
 "nbformat": 4,
 "nbformat_minor": 2
}
