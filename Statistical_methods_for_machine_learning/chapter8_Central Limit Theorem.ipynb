{
 "cells": [
  {
   "cell_type": "markdown",
   "metadata": {},
   "source": [
    "    as the size of the sample increases, the distribution of the mean across multiple samples will approximate a Gaussian distribution\n",
    "    \n",
    "    the estimate of the gaussian distribution will be more accurate as the size of the samples drawn from the population is increased - our inferences will become more useful as we increase our sample size"
   ]
  },
  {
   "cell_type": "code",
   "execution_count": 4,
   "metadata": {},
   "outputs": [],
   "source": [
    "import numpy as np\n",
    "\n",
    "# roll the dice 50 times, the distribution of the numbers that turn up from a dice roll is uniform given the equal distribution\n",
    "rolls = np.random.randint(1,7,50)"
   ]
  },
  {
   "cell_type": "code",
   "execution_count": 5,
   "metadata": {},
   "outputs": [
    {
     "data": {
      "text/plain": [
       "array([5, 1, 5, 1, 2, 5, 6, 5, 1, 4, 3, 2, 1, 1, 5, 4, 5, 4, 2, 6, 3, 1,\n",
       "       1, 4, 3, 4, 6, 5, 4, 3, 4, 3, 5, 5, 5, 2, 1, 3, 5, 3, 2, 6, 5, 5,\n",
       "       1, 3, 1, 3, 5, 4])"
      ]
     },
     "execution_count": 5,
     "metadata": {},
     "output_type": "execute_result"
    }
   ],
   "source": [
    "rolls"
   ]
  },
  {
   "cell_type": "code",
   "execution_count": 8,
   "metadata": {},
   "outputs": [
    {
     "data": {
      "text/plain": [
       "3.46"
      ]
     },
     "execution_count": 8,
     "metadata": {},
     "output_type": "execute_result"
    }
   ],
   "source": [
    "np.mean(rolls)"
   ]
  },
  {
   "cell_type": "code",
   "execution_count": 9,
   "metadata": {},
   "outputs": [],
   "source": [
    "# mean value of the distribution is 3.5"
   ]
  },
  {
   "cell_type": "code",
   "execution_count": 23,
   "metadata": {},
   "outputs": [],
   "source": [
    "# repeat the experiment 1000 times - according to CLT, the distribution of this sample means will be gaussian\n",
    "means = [np.mean(np.random.randint(1,7,100)) for _ in range(1000)]"
   ]
  },
  {
   "cell_type": "code",
   "execution_count": 24,
   "metadata": {},
   "outputs": [],
   "source": [
    "import matplotlib.pyplot as plt"
   ]
  },
  {
   "cell_type": "code",
   "execution_count": 25,
   "metadata": {},
   "outputs": [
    {
     "data": {
      "text/plain": [
       "(array([  3.,   3.,   7.,  14.,  31.,  55.,  80., 103., 146., 145.,  99.,\n",
       "        119.,  70.,  50.,  38.,  20.,   8.,   8.,   0.,   1.]),\n",
       " array([2.97 , 3.025, 3.08 , 3.135, 3.19 , 3.245, 3.3  , 3.355, 3.41 ,\n",
       "        3.465, 3.52 , 3.575, 3.63 , 3.685, 3.74 , 3.795, 3.85 , 3.905,\n",
       "        3.96 , 4.015, 4.07 ]),\n",
       " <a list of 20 Patch objects>)"
      ]
     },
     "execution_count": 25,
     "metadata": {},
     "output_type": "execute_result"
    },
    {
     "data": {
      "image/png": "[encoded data removed]",
      "text/plain": [
       "<Figure size 432x288 with 1 Axes>"
      ]
     },
     "metadata": {},
     "output_type": "display_data"
    }
   ],
   "source": [
    "plt.hist(means,bins=20)"
   ]
  },
  {
   "cell_type": "code",
   "execution_count": null,
   "metadata": {},
   "outputs": [],
   "source": []
  }
 ],
 "metadata": {
  "kernelspec": {
   "display_name": "Python 3",
   "language": "python",
   "name": "python3"
  },
  "language_info": {
   "codemirror_mode": {
    "name": "ipython",
    "version": 3
   },
   "file_extension": ".py",
   "mimetype": "text/x-python",
   "name": "python",
   "nbconvert_exporter": "python",
   "pygments_lexer": "ipython3",
   "version": "3.6.5"
  }
 },
 "nbformat": 4,
 "nbformat_minor": 2
}
