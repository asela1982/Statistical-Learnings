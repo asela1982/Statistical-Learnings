{
 "cells": [
  {
   "cell_type": "markdown",
   "metadata": {},
   "source": [
    "    Typical gaussian distributions  \n",
    "        - people's heights  \n",
    "        - IQ score  \n",
    "        - Body Temperature\n",
    "        - input data we use to fit a model\n",
    "        - mulitplie evaluations of a model on different samples of training data\n",
    "\n",
    "    non gaussian distributions  \n",
    "        - people's income  \n",
    "        - population of cities\n",
    "        - sales of books"
   ]
  },
  {
   "cell_type": "code",
   "execution_count": 4,
   "metadata": {},
   "outputs": [],
   "source": [
    "import matplotlib.pyplot as plt\n",
    "import numpy as np\n",
    "from scipy.stats import norm"
   ]
  },
  {
   "cell_type": "code",
   "execution_count": 17,
   "metadata": {},
   "outputs": [],
   "source": [
    "# x_axis of the plot(observations)\n",
    "x_axis = np.arange(-3,3,0.001)\n",
    "# y_axis pdf at x of the given rv(the likelihood of each observation)\n",
    "y_axis = norm.pdf(x_axis)"
   ]
  },
  {
   "cell_type": "code",
   "execution_count": 18,
   "metadata": {},
   "outputs": [
    {
     "data": {
      "text/plain": [
       "[<matplotlib.lines.Line2D at 0x14b84da7240>]"
      ]
     },
     "execution_count": 18,
     "metadata": {},
     "output_type": "execute_result"
    },
    {
     "data": {
      "image/png": "[encoded data removed]",
      "text/plain": [
       "<Figure size 432x288 with 1 Axes>"
      ]
     },
     "metadata": {},
     "output_type": "display_data"
    }
   ],
   "source": [
    "# plot data\n",
    "plt.plot(x_axis,y_axis)"
   ]
  },
  {
   "cell_type": "markdown",
   "metadata": {},
   "source": [
    "    data is generated from an unknown process\n",
    "    \n",
    "    examples of data samples in machine learning:\n",
    "    \n",
    "        train and test data\n",
    "        performance scores for a model"
   ]
  },
  {
   "cell_type": "markdown",
   "metadata": {},
   "source": [
    "** generate a sample of random numbers from a gaussian distribution **"
   ]
  },
  {
   "cell_type": "code",
   "execution_count": 30,
   "metadata": {},
   "outputs": [],
   "source": [
    "data = np.random.randn(10000)  # mean of 0 and standard deviation of 1\n",
    "\n",
    "data_scaled = data*5 + 50 # scale to a gaussian of our choice"
   ]
  },
  {
   "cell_type": "code",
   "execution_count": 32,
   "metadata": {},
   "outputs": [
    {
     "data": {
      "text/plain": [
       "49.98876865091108"
      ]
     },
     "execution_count": 32,
     "metadata": {},
     "output_type": "execute_result"
    }
   ],
   "source": [
    "np.mean(data_scaled)"
   ]
  },
  {
   "cell_type": "code",
   "execution_count": 33,
   "metadata": {},
   "outputs": [
    {
     "data": {
      "text/plain": [
       "4.9618237542167964"
      ]
     },
     "execution_count": 33,
     "metadata": {},
     "output_type": "execute_result"
    }
   ],
   "source": [
    "np.std(data_scaled)"
   ]
  },
  {
   "cell_type": "code",
   "execution_count": 35,
   "metadata": {},
   "outputs": [
    {
     "data": {
      "text/plain": [
       "(array([  1.,   1.,   2.,   1.,   2.,   1.,   4.,   6.,   6.,  11.,  14.,\n",
       "          9.,   4.,  12.,  17.,  13.,  17.,  32.,  39.,  31.,  32.,  37.,\n",
       "         56.,  61.,  61.,  92.,  69.,  82., 107., 117., 110., 139., 148.,\n",
       "        158., 149., 188., 198., 211., 212., 212., 223., 235., 243., 236.,\n",
       "        263., 248., 273., 262., 301., 268., 270., 283., 244., 273., 243.,\n",
       "        240., 257., 215., 239., 209., 200., 200., 170., 181., 161., 154.,\n",
       "        127., 129., 103., 110., 105.,  86.,  88.,  75.,  59.,  40.,  33.,\n",
       "         36.,  40.,  45.,  31.,  22.,  24.,  22.,  11.,  10.,   5.,   7.,\n",
       "          4.,   4.,   8.,   4.,   4.,   4.,   2.,   1.,   3.,   1.,   1.,\n",
       "          3.]),\n",
       " array([33.19620648, 33.53726833, 33.87833018, 34.21939203, 34.56045387,\n",
       "        34.90151572, 35.24257757, 35.58363942, 35.92470127, 36.26576312,\n",
       "        36.60682497, 36.94788682, 37.28894867, 37.63001052, 37.97107236,\n",
       "        38.31213421, 38.65319606, 38.99425791, 39.33531976, 39.67638161,\n",
       "        40.01744346, 40.35850531, 40.69956716, 41.04062901, 41.38169085,\n",
       "        41.7227527 , 42.06381455, 42.4048764 , 42.74593825, 43.0870001 ,\n",
       "        43.42806195, 43.7691238 , 44.11018565, 44.4512475 , 44.79230934,\n",
       "        45.13337119, 45.47443304, 45.81549489, 46.15655674, 46.49761859,\n",
       "        46.83868044, 47.17974229, 47.52080414, 47.86186599, 48.20292783,\n",
       "        48.54398968, 48.88505153, 49.22611338, 49.56717523, 49.90823708,\n",
       "        50.24929893, 50.59036078, 50.93142263, 51.27248447, 51.61354632,\n",
       "        51.95460817, 52.29567002, 52.63673187, 52.97779372, 53.31885557,\n",
       "        53.65991742, 54.00097927, 54.34204112, 54.68310296, 55.02416481,\n",
       "        55.36522666, 55.70628851, 56.04735036, 56.38841221, 56.72947406,\n",
       "        57.07053591, 57.41159776, 57.75265961, 58.09372145, 58.4347833 ,\n",
       "        58.77584515, 59.116907  , 59.45796885, 59.7990307 , 60.14009255,\n",
       "        60.4811544 , 60.82221625, 61.1632781 , 61.50433994, 61.84540179,\n",
       "        62.18646364, 62.52752549, 62.86858734, 63.20964919, 63.55071104,\n",
       "        63.89177289, 64.23283474, 64.57389659, 64.91495843, 65.25602028,\n",
       "        65.59708213, 65.93814398, 66.27920583, 66.62026768, 66.96132953,\n",
       "        67.30239138]),\n",
       " <a list of 100 Patch objects>)"
      ]
     },
     "execution_count": 35,
     "metadata": {},
     "output_type": "execute_result"
    },
    {
     "data": {
      "image/png": "[encoded data removed]",
      "text/plain": [
       "<Figure size 432x288 with 1 Axes>"
      ]
     },
     "metadata": {},
     "output_type": "display_data"
    }
   ],
   "source": [
    "plt.hist(data_scaled, bins=100)"
   ]
  },
  {
   "cell_type": "markdown",
   "metadata": {},
   "source": [
    "    There is still some noise or limitation even though the data was sampled from a gaussian distribution"
   ]
  },
  {
   "cell_type": "markdown",
   "metadata": {},
   "source": [
    "** calculate the mean of a sample **"
   ]
  },
  {
   "cell_type": "code",
   "execution_count": 37,
   "metadata": {},
   "outputs": [],
   "source": [
    "from numpy.random import seed\n",
    "from numpy.random import randn\n",
    "from numpy import mean"
   ]
  },
  {
   "cell_type": "code",
   "execution_count": 53,
   "metadata": {},
   "outputs": [],
   "source": [
    "seed(1)\n",
    "data = 5 * randn(10000) + 50"
   ]
  },
  {
   "cell_type": "code",
   "execution_count": 54,
   "metadata": {},
   "outputs": [],
   "source": [
    "result = mean(data)"
   ]
  },
  {
   "cell_type": "code",
   "execution_count": 55,
   "metadata": {},
   "outputs": [
    {
     "name": "stdout",
     "output_type": "stream",
     "text": [
      "Mean: 50.049\n"
     ]
    }
   ],
   "source": [
    "print('Mean: %.3f' % result)"
   ]
  },
  {
   "cell_type": "markdown",
   "metadata": {},
   "source": [
    "** calculate the median of a sample **"
   ]
  },
  {
   "cell_type": "markdown",
   "metadata": {},
   "source": [
    "    incase of outliers or non-gaussian distribution, the central tendancy measure is median"
   ]
  },
  {
   "cell_type": "code",
   "execution_count": 56,
   "metadata": {},
   "outputs": [],
   "source": [
    "from numpy import median\n",
    "result = median(data)"
   ]
  },
  {
   "cell_type": "code",
   "execution_count": 57,
   "metadata": {},
   "outputs": [
    {
     "name": "stdout",
     "output_type": "stream",
     "text": [
      "Median: 50.042\n"
     ]
    }
   ],
   "source": [
    "print('Median: %.3f' % result)"
   ]
  },
  {
   "cell_type": "markdown",
   "metadata": {},
   "source": [
    "**variance**"
   ]
  },
  {
   "cell_type": "markdown",
   "metadata": {},
   "source": [
    "    average deviation of the observations from the mean"
   ]
  },
  {
   "cell_type": "code",
   "execution_count": 58,
   "metadata": {},
   "outputs": [],
   "source": [
    "x_axis = np.arange(-3,3,0.01)"
   ]
  },
  {
   "cell_type": "code",
   "execution_count": 64,
   "metadata": {},
   "outputs": [
    {
     "data": {
      "text/plain": [
       "[<matplotlib.lines.Line2D at 0x14b863e1470>]"
      ]
     },
     "execution_count": 64,
     "metadata": {},
     "output_type": "execute_result"
    },
    {
     "data": {
      "image/png": "[encoded data removed]",
      "text/plain": [
       "<Figure size 432x288 with 1 Axes>"
      ]
     },
     "metadata": {},
     "output_type": "display_data"
    }
   ],
   "source": [
    "plt.plot(x_axis, norm.pdf(x_axis,0, 0.25))\n",
    "plt.plot(x_axis, norm.pdf(x_axis,0, 0.5))\n",
    "plt.plot(x_axis, norm.pdf(x_axis,0, 1))"
   ]
  },
  {
   "cell_type": "code",
   "execution_count": 67,
   "metadata": {},
   "outputs": [],
   "source": [
    "from numpy import var\n",
    "result = var(data)"
   ]
  },
  {
   "cell_type": "code",
   "execution_count": 71,
   "metadata": {},
   "outputs": [
    {
     "data": {
      "text/plain": [
       "24.93932903879117"
      ]
     },
     "execution_count": 71,
     "metadata": {},
     "output_type": "execute_result"
    }
   ],
   "source": [
    "result"
   ]
  },
  {
   "cell_type": "code",
   "execution_count": 70,
   "metadata": {},
   "outputs": [
    {
     "name": "stdout",
     "output_type": "stream",
     "text": [
      "Variance: 24.939\n"
     ]
    }
   ],
   "source": [
    "print('Variance: %.3f' % result)"
   ]
  },
  {
   "cell_type": "code",
   "execution_count": 72,
   "metadata": {},
   "outputs": [],
   "source": [
    "from numpy import std\n",
    "result = std(data)"
   ]
  },
  {
   "cell_type": "code",
   "execution_count": 73,
   "metadata": {},
   "outputs": [
    {
     "data": {
      "text/plain": [
       "4.993929218440242"
      ]
     },
     "execution_count": 73,
     "metadata": {},
     "output_type": "execute_result"
    }
   ],
   "source": [
    "result"
   ]
  },
  {
   "cell_type": "code",
   "execution_count": 74,
   "metadata": {},
   "outputs": [
    {
     "name": "stdout",
     "output_type": "stream",
     "text": [
      "Standard deviation: 4.994\n"
     ]
    }
   ],
   "source": [
    "print('Standard deviation: %.3f' % result)"
   ]
  },
  {
   "cell_type": "markdown",
   "metadata": {},
   "source": [
    "    Measures of variance can be calculated for non-gaussian distributions, but generally requires the distribution to be identified so a specialized variance particular to that distribution can be calculated"
   ]
  },
  {
   "cell_type": "code",
   "execution_count": null,
   "metadata": {},
   "outputs": [],
   "source": []
  }
 ],
 "metadata": {
  "kernelspec": {
   "display_name": "Python 3",
   "language": "python",
   "name": "python3"
  },
  "language_info": {
   "codemirror_mode": {
    "name": "ipython",
    "version": 3
   },
   "file_extension": ".py",
   "mimetype": "text/x-python",
   "name": "python",
   "nbconvert_exporter": "python",
   "pygments_lexer": "ipython3",
   "version": "3.6.5"
  }
 },
 "nbformat": 4,
 "nbformat_minor": 2
}
