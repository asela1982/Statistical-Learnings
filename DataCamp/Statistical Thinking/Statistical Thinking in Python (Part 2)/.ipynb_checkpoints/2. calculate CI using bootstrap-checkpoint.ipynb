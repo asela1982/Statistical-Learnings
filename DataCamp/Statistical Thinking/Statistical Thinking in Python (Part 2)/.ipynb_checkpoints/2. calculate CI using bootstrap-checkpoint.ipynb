{
 "cells": [
  {
   "cell_type": "markdown",
   "metadata": {},
   "source": [
    "Bootstraping(use of resample data to perform statistical inference)\n",
    "\n",
    "Have a sample of data(n)\n",
    "\n",
    "choose n of them with replacement for each sample(bootstrap sample)\n",
    "\n",
    "bootstrap replicate: value of the summary statistic computed by the bootstrap sample\n",
    "\n",
    "Get a large number of summary statistics from the resampled datasets\n",
    "\n",
    "plot a ECDF(to view the prob distribution describing the summary statistic)\n"
   ]
  },
  {
   "cell_type": "code",
   "execution_count": null,
   "metadata": {},
   "outputs": [],
   "source": []
  }
 ],
 "metadata": {
  "kernelspec": {
   "display_name": "Python 3",
   "language": "python",
   "name": "python3"
  },
  "language_info": {
   "codemirror_mode": {
    "name": "ipython",
    "version": 3
   },
   "file_extension": ".py",
   "mimetype": "text/x-python",
   "name": "python",
   "nbconvert_exporter": "python",
   "pygments_lexer": "ipython3",
   "version": "3.6.2"
  }
 },
 "nbformat": 4,
 "nbformat_minor": 2
}
